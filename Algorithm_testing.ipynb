{
  "cells": [
    {
      "cell_type": "code",
      "execution_count": null,
      "id": "4chxmiz8lNjE",
      "metadata": {
        "id": "4chxmiz8lNjE"
      },
      "outputs": [],
      "source": [
        "# !wget https://ftp.ncbi.nlm.nih.gov/geo/series/GSE13nnn/GSE13159/matrix/GSE13159_series_matrix.txt.gz"
      ]
    },
    {
      "cell_type": "code",
      "execution_count": 1,
      "id": "223d7e2b",
      "metadata": {
        "id": "223d7e2b"
      },
      "outputs": [],
      "source": [
        "import numpy as np\n",
        "import pandas as pd\n",
        "import seaborn as sns\n",
        "import re\n",
        "# import GEOparse\n",
        "import gzip\n",
        "from sklearn.model_selection import train_test_split\n",
        "from sklearn.ensemble import RandomForestClassifier\n",
        "from sklearn.metrics import classification_report\n",
        "from sklearn.preprocessing import LabelEncoder\n",
        "from sklearn.preprocessing import StandardScaler\n",
        "from sklearn.feature_selection import SelectKBest, f_classif\n",
        "from sklearn.model_selection import train_test_split\n",
        "from imblearn.over_sampling import SMOTE\n",
        "\n",
        "#Model tesets\n",
        "from sklearn.model_selection import cross_val_score, StratifiedKFold\n",
        "from sklearn.linear_model import LogisticRegression\n",
        "from sklearn.svm import SVC\n",
        "from sklearn.ensemble import RandomForestClassifier, GradientBoostingClassifier\n",
        "from sklearn.neighbors import KNeighborsClassifier\n",
        "from sklearn.naive_bayes import GaussianNB\n",
        "from sklearn.neural_network import MLPClassifier\n"
      ]
    },
    {
      "cell_type": "markdown",
      "id": "5726d88d",
      "metadata": {
        "id": "5726d88d"
      },
      "source": [
        "# FAILED ATTEMPT WITH SOFT FILE"
      ]
    },
    {
      "cell_type": "code",
      "execution_count": null,
      "id": "a75e4ed0",
      "metadata": {
        "id": "a75e4ed0"
      },
      "outputs": [],
      "source": [
        "#gse = GEOparse.get_GEO(\"GSE13159\", destdir=\".\")\n",
        "#This one to download the database and extract\n",
        "\n",
        "# gse = GEOparse.get_GEO(filepath=\"GSE13159_family.soft.gz\")\n",
        "#This one to only extract database"
      ]
    },
    {
      "cell_type": "code",
      "execution_count": null,
      "id": "957658c4",
      "metadata": {
        "id": "957658c4"
      },
      "outputs": [],
      "source": [
        "# # Convert samples into a pandas DataFrame\n",
        "# samples = []\n",
        "# for gsm_name, gsm in gse.gsms.items():\n",
        "#     samples.append(gsm.table)\n",
        "\n",
        "# # Expression matrix (genes × samples)\n",
        "# # Use the GPL annotation table to map probes to genes\n",
        "# expr = gse.pivot_samples('VALUE')\n",
        "# print(expr.shape)  # e.g., (genes, samples)\n"
      ]
    },
    {
      "cell_type": "code",
      "execution_count": null,
      "id": "e054f303",
      "metadata": {
        "id": "e054f303"
      },
      "outputs": [],
      "source": [
        "# metadata = []\n",
        "# for gsm_name, gsm in gse.gsms.items():\n",
        "#     md = gsm.metadata\n",
        "#     metadata.append({\n",
        "#         \"sample_id\": gsm_name,\n",
        "#         \"title\": md[\"title\"][0] if \"title\" in md else None,\n",
        "#         \"disease\": md.get(\"characteristics_ch1\", [\"\"])[0]  # sometimes has disease info\n",
        "#     })\n",
        "\n",
        "# meta_df = pd.DataFrame(metadata)\n",
        "# print(meta_df.head())\n"
      ]
    },
    {
      "cell_type": "markdown",
      "id": "1d31767e",
      "metadata": {
        "id": "1d31767e"
      },
      "source": [
        "# USING TXT SERIES MATRIX"
      ]
    },
    {
      "cell_type": "code",
      "execution_count": null,
      "id": "c38dd830",
      "metadata": {
        "colab": {
          "base_uri": "https://localhost:8080/"
        },
        "id": "c38dd830",
        "outputId": "b90a9a9d-d020-4c29-e513-3e335001950a"
      },
      "outputs": [],
      "source": [
        "filename = \"GSE13159_series_matrix.txt.gz\"\n",
        "\n",
        "with gzip.open(filename, \"rt\", errors=\"ignore\") as f:\n",
        "    for line in f:\n",
        "        if line.startswith(\"!Sample\"):\n",
        "            print(line[:200])\n",
        "\n"
      ]
    },
    {
      "cell_type": "code",
      "execution_count": null,
      "id": "1a239898",
      "metadata": {
        "colab": {
          "base_uri": "https://localhost:8080/"
        },
        "id": "1a239898",
        "outputId": "571af414-ab14-4a5b-cc93-c0d0c555ee88"
      },
      "outputs": [],
      "source": [
        "filename = \"GSE13159_series_matrix.txt.gz\"\n",
        "\n",
        "expr = pd.read_csv(filename, sep=\"\\t\", comment=\"!\", index_col=0)\n",
        "X = expr.T\n",
        "print(\"Expression matrix shape:\", X.shape)\n",
        "\n",
        "sample_ids, labels = [], []\n",
        "with gzip.open(filename, \"rt\", errors=\"ignore\") as f:\n",
        "    for line in f:\n",
        "        if line.startswith(\"!Sample_geo_accession\"):\n",
        "            sample_ids = [s.strip('\"') for s in line.strip().split(\"\\t\")[1:]]\n",
        "        if line.startswith(\"!Sample_characteristics_ch1\") and \"leukemia class\" in line:\n",
        "            raw_labels = line.strip().split(\"\\t\")[1:]\n",
        "            labels = [lbl.split(\":\")[-1].strip().strip('\"') for lbl in raw_labels]\n",
        "\n",
        "print(\"Samples in X:\", len(X))\n",
        "print(\"Samples in labels:\", len(labels))\n",
        "\n",
        "y = pd.DataFrame({\"sample_id\": sample_ids, \"label\": labels})\n",
        "\n",
        "X.to_csv(\"X.csv\")\n",
        "y.to_csv(\"y.csv\", index=False)\n",
        "\n",
        "print(\"✅ Saved X.csv and y.csv\")\n",
        "print(\"Unique classes:\", y['label'].unique())"
      ]
    },
    {
      "cell_type": "code",
      "execution_count": 2,
      "id": "5f5146c1",
      "metadata": {
        "id": "5f5146c1"
      },
      "outputs": [],
      "source": [
        "X = pd.read_csv(\"X.csv\", index_col=0)\n",
        "y = pd.read_csv(\"y.csv\", index_col=0).squeeze()"
      ]
    },
    {
      "cell_type": "code",
      "execution_count": 3,
      "id": "77d178a3",
      "metadata": {
        "colab": {
          "base_uri": "https://localhost:8080/"
        },
        "id": "77d178a3",
        "outputId": "67bba7b3-c4f6-479a-f867-5cc46e274249"
      },
      "outputs": [
        {
          "name": "stdout",
          "output_type": "stream",
          "text": [
            "Features shape: (2096, 54675)\n",
            "Labels shape: (2096,)\n",
            "Unique labels: ['mature B-ALL with t(8;14)' 'Pro-B-ALL with t(11q23)/MLL'\n",
            " 'c-ALL/Pre-B-ALL with t(9;22)' 'T-ALL' 'ALL with t(12;21)'\n",
            " 'ALL with t(1;19)' 'ALL with hyperdiploid karyotype'\n",
            " 'c-ALL/Pre-B-ALL without t(9;22)' 'AML with t(8;21)' 'AML with t(15;17)'\n",
            " 'AML with inv(16)/t(16;16)' 'AML with t(11q23)/MLL'\n",
            " 'AML with normal karyotype + other abnormalities'\n",
            " 'AML complex aberrant karyotype' 'CLL' 'CML' 'MDS'\n",
            " 'Non-leukemia and healthy bone marrow']\n"
          ]
        }
      ],
      "source": [
        "print(\"Features shape:\", X.shape)   # (2096, 54675)\n",
        "print(\"Labels shape:\", y.shape)     # (2096,)\n",
        "print(\"Unique labels:\", y.unique())\n"
      ]
    },
    {
      "cell_type": "code",
      "execution_count": 4,
      "id": "b64b5369",
      "metadata": {
        "colab": {
          "base_uri": "https://localhost:8080/"
        },
        "id": "b64b5369",
        "outputId": "f719c0ea-a25d-40f6-8113-186ef2570266"
      },
      "outputs": [
        {
          "name": "stdout",
          "output_type": "stream",
          "text": [
            "label\n",
            "CLL                                                448\n",
            "AML with normal karyotype + other abnormalities    351\n",
            "c-ALL/Pre-B-ALL without t(9;22)                    237\n",
            "MDS                                                206\n",
            "T-ALL                                              174\n",
            "c-ALL/Pre-B-ALL with t(9;22)                       122\n",
            "CML                                                 76\n",
            "Non-leukemia and healthy bone marrow                74\n",
            "Pro-B-ALL with t(11q23)/MLL                         70\n",
            "ALL with t(12;21)                                   58\n",
            "AML complex aberrant karyotype                      48\n",
            "ALL with hyperdiploid karyotype                     40\n",
            "AML with t(8;21)                                    40\n",
            "AML with t(11q23)/MLL                               38\n",
            "AML with t(15;17)                                   37\n",
            "ALL with t(1;19)                                    36\n",
            "AML with inv(16)/t(16;16)                           28\n",
            "mature B-ALL with t(8;14)                           13\n",
            "Name: count, dtype: int64\n"
          ]
        }
      ],
      "source": [
        "# Clean label text\n",
        "y = y.str.replace(\"leukemia class: \", \"\", regex=False)\n",
        "y = y.str.strip()\n",
        "print(y.value_counts())\n"
      ]
    },
    {
      "cell_type": "code",
      "execution_count": null,
      "id": "9514e402",
      "metadata": {},
      "outputs": [],
      "source": [
        "def map_label(label: str) -> str:\n",
        "    label = label.upper()  # normalize\n",
        "    \n",
        "    if \"ALL\" in label:\n",
        "        return \"ALL\"\n",
        "    elif \"AML\" in label:\n",
        "        return \"AML\"\n",
        "    elif \"CML\" in label:\n",
        "        return \"CML\"\n",
        "    elif \"CLL\" in label:\n",
        "        return \"CLL\"\n",
        "    elif \"MDS\" in label:\n",
        "        return \"MDS\"\n",
        "    else:\n",
        "        return \"Healthy\"  \n"
      ]
    },
    {
      "cell_type": "code",
      "execution_count": 6,
      "id": "79daf773",
      "metadata": {},
      "outputs": [
        {
          "name": "stdout",
          "output_type": "stream",
          "text": [
            "label\n",
            "ALL        750\n",
            "AML        542\n",
            "CLL        448\n",
            "MDS        206\n",
            "CML         76\n",
            "Healthy     74\n",
            "Name: count, dtype: int64\n"
          ]
        }
      ],
      "source": [
        "y = y.apply(map_label)\n",
        "print(y.value_counts())\n"
      ]
    },
    {
      "cell_type": "code",
      "execution_count": 7,
      "id": "945c2b9b",
      "metadata": {
        "colab": {
          "base_uri": "https://localhost:8080/"
        },
        "id": "945c2b9b",
        "outputId": "b08feae6-a0c6-408c-9044-cd6337dc0f31"
      },
      "outputs": [
        {
          "name": "stdout",
          "output_type": "stream",
          "text": [
            "{'ALL': 0, 'AML': 1, 'CLL': 2, 'CML': 3, 'Healthy': 4, 'MDS': 5}\n"
          ]
        }
      ],
      "source": [
        "\n",
        "le = LabelEncoder()\n",
        "y_encoded = le.fit_transform(y)\n",
        "\n",
        "print(dict(zip(le.classes_, range(len(le.classes_)))))"
      ]
    },
    {
      "cell_type": "code",
      "execution_count": 8,
      "id": "04e1a6e5",
      "metadata": {
        "colab": {
          "base_uri": "https://localhost:8080/"
        },
        "id": "04e1a6e5",
        "outputId": "312cdfdf-13ab-4f64-8408-0ddcf084dde7"
      },
      "outputs": [
        {
          "name": "stdout",
          "output_type": "stream",
          "text": [
            "NaNs  94320\n",
            "Infs  0\n"
          ]
        }
      ],
      "source": [
        "print(\"NaNs \", np.isnan(X.values).sum())\n",
        "print(\"Infs \", np.isinf(X.values).sum())\n",
        "X = X.fillna(0)\n"
      ]
    },
    {
      "cell_type": "code",
      "execution_count": 9,
      "id": "d8868f46",
      "metadata": {
        "colab": {
          "base_uri": "https://localhost:8080/"
        },
        "id": "d8868f46",
        "outputId": "c8e7e4fe-4d53-4d51-a8fd-b80f4c5b73aa"
      },
      "outputs": [
        {
          "name": "stdout",
          "output_type": "stream",
          "text": [
            "(2096, 54675)\n"
          ]
        }
      ],
      "source": [
        "scaler = StandardScaler()\n",
        "X_scaled = scaler.fit_transform(X)\n",
        "\n",
        "print(X_scaled.shape)"
      ]
    },
    {
      "cell_type": "code",
      "execution_count": 10,
      "id": "cef9cfca",
      "metadata": {
        "colab": {
          "base_uri": "https://localhost:8080/"
        },
        "id": "cef9cfca",
        "outputId": "87f59018-496b-4659-8581-ea8e7ca40a0a"
      },
      "outputs": [
        {
          "name": "stderr",
          "output_type": "stream",
          "text": [
            "/run/media/Saksham/Saksham/Code/Projects/Leukimia/Basic_4_types/myenv/lib/python3.13/site-packages/sklearn/feature_selection/_univariate_selection.py:110: UserWarning: Features [54613 54614 54615 54616 54617 54618 54619 54620 54621 54622 54623 54624\n",
            " 54639 54640 54641 54645 54646 54647 54648 54649 54650 54651 54652 54653\n",
            " 54654 54655 54656 54657 54658 54659 54660 54661 54662 54663 54664 54665\n",
            " 54666 54667 54668 54669 54670 54671 54672 54673 54674] are constant.\n",
            "  warnings.warn(\"Features %s are constant.\" % constant_features_idx, UserWarning)\n",
            "/run/media/Saksham/Saksham/Code/Projects/Leukimia/Basic_4_types/myenv/lib/python3.13/site-packages/sklearn/feature_selection/_univariate_selection.py:111: RuntimeWarning: invalid value encountered in divide\n",
            "  f = msb / msw\n"
          ]
        },
        {
          "name": "stdout",
          "output_type": "stream",
          "text": [
            "Reduced shape: (2096, 10000)\n"
          ]
        }
      ],
      "source": [
        "selector = SelectKBest(score_func=f_classif, k=10000)\n",
        "X_reduced = selector.fit_transform(X_scaled, y_encoded)\n",
        "\n",
        "print(\"Reduced shape:\", X_reduced.shape)\n"
      ]
    },
    {
      "cell_type": "code",
      "execution_count": null,
      "id": "a7ae0a6e",
      "metadata": {
        "colab": {
          "base_uri": "https://localhost:8080/"
        },
        "id": "a7ae0a6e",
        "outputId": "7bc4e408-7e8a-4863-a4be-3648d3c57bf7"
      },
      "outputs": [
        {
          "name": "stdout",
          "output_type": "stream",
          "text": [
            "(1676, 10000) (1676,) (420, 10000) (420,)\n"
          ]
        }
      ],
      "source": [
        "X_train, X_test, y_train, y_test = train_test_split(\n",
        "    X_reduced, y_encoded, test_size=0.2, random_state=69, stratify=y_encoded\n",
        ")\n",
        "print(X_train.shape,y_train.shape,X_test.shape,y_test.shape)"
      ]
    },
    {
      "cell_type": "code",
      "execution_count": 12,
      "id": "a7770d53",
      "metadata": {},
      "outputs": [
        {
          "name": "stdout",
          "output_type": "stream",
          "text": [
            "Before SMOTE: [750 542 448  76  74 206]\n",
            "After SMOTE : [750 750 750 750 750 750]\n"
          ]
        }
      ],
      "source": [
        "smote = SMOTE(random_state=42)\n",
        "X_res, y_res = smote.fit_resample(X_reduced, y_encoded)\n",
        "\n",
        "print(\"Before SMOTE:\", np.bincount(y_encoded))\n",
        "print(\"After SMOTE :\", np.bincount(y_res))\n",
        "\n",
        "# X_train_res, y_train_res = X_train, y_train"
      ]
    },
    {
      "cell_type": "code",
      "execution_count": 13,
      "id": "e187d992",
      "metadata": {
        "colab": {
          "base_uri": "https://localhost:8080/"
        },
        "id": "e187d992",
        "outputId": "93384efd-a03f-49bf-b491-1fdb0ccd11c6"
      },
      "outputs": [
        {
          "name": "stdout",
          "output_type": "stream",
          "text": [
            "Naive Bayes         : 0.901 ± 0.006\n",
            "Random Forest       : 0.984 ± 0.004\n",
            "KNN                 : 0.958 ± 0.005\n",
            "SVM (RBF)           : 0.989 ± 0.002\n"
          ]
        },
        {
          "name": "stderr",
          "output_type": "stream",
          "text": [
            "/run/media/Saksham/Saksham/Code/Projects/Leukimia/Basic_4_types/myenv/lib/python3.13/site-packages/sklearn/linear_model/_logistic.py:1296: FutureWarning: Using the 'liblinear' solver for multiclass classification is deprecated. An error will be raised in 1.8. Either use another solver which supports the multinomial loss or wrap the estimator in a OneVsRestClassifier to keep applying a one-versus-rest scheme.\n",
            "  warnings.warn(\n",
            "/run/media/Saksham/Saksham/Code/Projects/Leukimia/Basic_4_types/myenv/lib/python3.13/site-packages/sklearn/linear_model/_logistic.py:1296: FutureWarning: Using the 'liblinear' solver for multiclass classification is deprecated. An error will be raised in 1.8. Either use another solver which supports the multinomial loss or wrap the estimator in a OneVsRestClassifier to keep applying a one-versus-rest scheme.\n",
            "  warnings.warn(\n",
            "/run/media/Saksham/Saksham/Code/Projects/Leukimia/Basic_4_types/myenv/lib/python3.13/site-packages/sklearn/linear_model/_logistic.py:1296: FutureWarning: Using the 'liblinear' solver for multiclass classification is deprecated. An error will be raised in 1.8. Either use another solver which supports the multinomial loss or wrap the estimator in a OneVsRestClassifier to keep applying a one-versus-rest scheme.\n",
            "  warnings.warn(\n",
            "/run/media/Saksham/Saksham/Code/Projects/Leukimia/Basic_4_types/myenv/lib/python3.13/site-packages/sklearn/linear_model/_logistic.py:1296: FutureWarning: Using the 'liblinear' solver for multiclass classification is deprecated. An error will be raised in 1.8. Either use another solver which supports the multinomial loss or wrap the estimator in a OneVsRestClassifier to keep applying a one-versus-rest scheme.\n",
            "  warnings.warn(\n",
            "/run/media/Saksham/Saksham/Code/Projects/Leukimia/Basic_4_types/myenv/lib/python3.13/site-packages/sklearn/linear_model/_logistic.py:1296: FutureWarning: Using the 'liblinear' solver for multiclass classification is deprecated. An error will be raised in 1.8. Either use another solver which supports the multinomial loss or wrap the estimator in a OneVsRestClassifier to keep applying a one-versus-rest scheme.\n",
            "  warnings.warn(\n"
          ]
        },
        {
          "name": "stdout",
          "output_type": "stream",
          "text": [
            "Logistic Regression : 0.983 ± 0.003\n",
            "Neural Net (MLP)    : 0.989 ± 0.003\n"
          ]
        }
      ],
      "source": [
        "models = {\n",
        "    \"Naive Bayes\": GaussianNB(),\n",
        "    \"Random Forest\": RandomForestClassifier(n_estimators=200, random_state=42),\n",
        "    \"KNN\": KNeighborsClassifier(n_neighbors=5),\n",
        "    \"SVM (RBF)\": SVC(kernel=\"rbf\", probability=True),\n",
        "    \"Logistic Regression\": LogisticRegression(max_iter=5000, solver=\"liblinear\"),\n",
        "    \"Neural Net (MLP)\": MLPClassifier(hidden_layer_sizes=(144,72),activation=\"logistic\",solver=\"adam\", max_iter=500)\n",
        "}\n",
        "\n",
        "#NOT USING GRADIENT BOOSTING AS IT WAS TAKING TOO MUCH TIME\n",
        "\n",
        "cv = StratifiedKFold(n_splits=5, shuffle=True, random_state=42)\n",
        "\n",
        "results = {}\n",
        "for name, model in models.items():\n",
        "    scores = cross_val_score(model, X_res, y_res, cv=cv, scoring=\"accuracy\")\n",
        "    results[name] = (np.mean(scores), np.std(scores))\n",
        "    print(f\"{name:20s}: {np.mean(scores):.3f} ± {np.std(scores):.3f}\")"
      ]
    }
  ],
  "metadata": {
    "colab": {
      "provenance": []
    },
    "kernelspec": {
      "display_name": "myenv (3.13.7)",
      "language": "python",
      "name": "python3"
    },
    "language_info": {
      "codemirror_mode": {
        "name": "ipython",
        "version": 3
      },
      "file_extension": ".py",
      "mimetype": "text/x-python",
      "name": "python",
      "nbconvert_exporter": "python",
      "pygments_lexer": "ipython3",
      "version": "3.13.7"
    }
  },
  "nbformat": 4,
  "nbformat_minor": 5
}
