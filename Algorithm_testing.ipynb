{
  "cells": [
    {
      "cell_type": "code",
      "source": [
        "!wget https://ftp.ncbi.nlm.nih.gov/geo/series/GSE13nnn/GSE13159/matrix/GSE13159_series_matrix.txt.gz"
      ],
      "metadata": {
        "id": "4chxmiz8lNjE"
      },
      "id": "4chxmiz8lNjE",
      "execution_count": null,
      "outputs": []
    },
    {
      "cell_type": "code",
      "execution_count": 1,
      "id": "223d7e2b",
      "metadata": {
        "id": "223d7e2b"
      },
      "outputs": [],
      "source": [
        "import numpy as np\n",
        "import pandas as pd\n",
        "import seaborn as sns\n",
        "# import GEOparse\n",
        "import gzip\n",
        "from sklearn.model_selection import train_test_split\n",
        "from sklearn.ensemble import RandomForestClassifier\n",
        "from sklearn.metrics import classification_report\n",
        "from sklearn.preprocessing import LabelEncoder\n",
        "from sklearn.preprocessing import StandardScaler\n",
        "from sklearn.feature_selection import SelectKBest, f_classif\n",
        "from sklearn.model_selection import train_test_split\n",
        "\n",
        "\n",
        "#Model tesets\n",
        "from sklearn.model_selection import cross_val_score, StratifiedKFold\n",
        "from sklearn.linear_model import LogisticRegression\n",
        "from sklearn.svm import SVC\n",
        "from sklearn.ensemble import RandomForestClassifier, GradientBoostingClassifier\n",
        "from sklearn.neighbors import KNeighborsClassifier\n",
        "from sklearn.naive_bayes import GaussianNB\n",
        "from sklearn.neural_network import MLPClassifier\n",
        "from xgboost import XGBClassifier\n"
      ]
    },
    {
      "cell_type": "markdown",
      "id": "5726d88d",
      "metadata": {
        "id": "5726d88d"
      },
      "source": [
        "# FAILED ATTEMPT WITH SOFT FILE"
      ]
    },
    {
      "cell_type": "code",
      "execution_count": null,
      "id": "a75e4ed0",
      "metadata": {
        "id": "a75e4ed0"
      },
      "outputs": [],
      "source": [
        "#gse = GEOparse.get_GEO(\"GSE13159\", destdir=\".\")\n",
        "#This one to download the database and extract\n",
        "\n",
        "# gse = GEOparse.get_GEO(filepath=\"GSE13159_family.soft.gz\")\n",
        "#This one to only extract database"
      ]
    },
    {
      "cell_type": "code",
      "execution_count": null,
      "id": "957658c4",
      "metadata": {
        "id": "957658c4"
      },
      "outputs": [],
      "source": [
        "# # Convert samples into a pandas DataFrame\n",
        "# samples = []\n",
        "# for gsm_name, gsm in gse.gsms.items():\n",
        "#     samples.append(gsm.table)\n",
        "\n",
        "# # Expression matrix (genes × samples)\n",
        "# # Use the GPL annotation table to map probes to genes\n",
        "# expr = gse.pivot_samples('VALUE')\n",
        "# print(expr.shape)  # e.g., (genes, samples)\n"
      ]
    },
    {
      "cell_type": "code",
      "execution_count": null,
      "id": "e054f303",
      "metadata": {
        "id": "e054f303"
      },
      "outputs": [],
      "source": [
        "# metadata = []\n",
        "# for gsm_name, gsm in gse.gsms.items():\n",
        "#     md = gsm.metadata\n",
        "#     metadata.append({\n",
        "#         \"sample_id\": gsm_name,\n",
        "#         \"title\": md[\"title\"][0] if \"title\" in md else None,\n",
        "#         \"disease\": md.get(\"characteristics_ch1\", [\"\"])[0]  # sometimes has disease info\n",
        "#     })\n",
        "\n",
        "# meta_df = pd.DataFrame(metadata)\n",
        "# print(meta_df.head())\n"
      ]
    },
    {
      "cell_type": "markdown",
      "id": "1d31767e",
      "metadata": {
        "id": "1d31767e"
      },
      "source": [
        "# USING TXT SERIES MATRIX"
      ]
    },
    {
      "cell_type": "code",
      "execution_count": 2,
      "id": "c38dd830",
      "metadata": {
        "colab": {
          "base_uri": "https://localhost:8080/"
        },
        "id": "c38dd830",
        "outputId": "b90a9a9d-d020-4c29-e513-3e335001950a"
      },
      "outputs": [
        {
          "output_type": "stream",
          "name": "stdout",
          "text": [
            "!Sample_title\t\"MILES stage 1 data N1_0001\"\t\"MILES stage 1 data N1_0002\"\t\"MILES stage 1 data N1_0003\"\t\"MILES stage 1 data N1_0004\"\t\"MILES stage 1 data N1_0005\"\t\"MILES stage 1 data N1_0006\"\t\"MILES stage\n",
            "!Sample_geo_accession\t\"GSM329407\"\t\"GSM329408\"\t\"GSM329409\"\t\"GSM329410\"\t\"GSM329411\"\t\"GSM329412\"\t\"GSM329413\"\t\"GSM329414\"\t\"GSM329415\"\t\"GSM329416\"\t\"GSM329417\"\t\"GSM329418\"\t\"GSM329419\"\t\"GSM329420\"\t\"GSM329421\n",
            "!Sample_status\t\"Public on Sep 30 2009\"\t\"Public on Sep 30 2009\"\t\"Public on Sep 30 2009\"\t\"Public on Sep 30 2009\"\t\"Public on Sep 30 2009\"\t\"Public on Sep 30 2009\"\t\"Public on Sep 30 2009\"\t\"Public on Sep 30\n",
            "!Sample_submission_date\t\"Oct 10 2008\"\t\"Oct 10 2008\"\t\"Oct 10 2008\"\t\"Oct 10 2008\"\t\"Oct 10 2008\"\t\"Oct 10 2008\"\t\"Oct 10 2008\"\t\"Oct 10 2008\"\t\"Oct 10 2008\"\t\"Oct 10 2008\"\t\"Oct 10 2008\"\t\"Oct 10 2008\"\t\"Oct 10 \n",
            "!Sample_last_update_date\t\"Nov 14 2018\"\t\"Nov 14 2018\"\t\"Nov 14 2018\"\t\"Nov 14 2018\"\t\"Nov 14 2018\"\t\"Nov 14 2018\"\t\"Nov 14 2018\"\t\"Nov 14 2018\"\t\"Nov 14 2018\"\t\"Nov 14 2018\"\t\"Nov 14 2018\"\t\"Nov 14 2018\"\t\"Nov 14\n",
            "!Sample_type\t\"RNA\"\t\"RNA\"\t\"RNA\"\t\"RNA\"\t\"RNA\"\t\"RNA\"\t\"RNA\"\t\"RNA\"\t\"RNA\"\t\"RNA\"\t\"RNA\"\t\"RNA\"\t\"RNA\"\t\"RNA\"\t\"RNA\"\t\"RNA\"\t\"RNA\"\t\"RNA\"\t\"RNA\"\t\"RNA\"\t\"RNA\"\t\"RNA\"\t\"RNA\"\t\"RNA\"\t\"RNA\"\t\"RNA\"\t\"RNA\"\t\"RNA\"\t\"RNA\"\t\"RNA\"\t\"RNA\"\t\"\n",
            "!Sample_channel_count\t\"1\"\t\"1\"\t\"1\"\t\"1\"\t\"1\"\t\"1\"\t\"1\"\t\"1\"\t\"1\"\t\"1\"\t\"1\"\t\"1\"\t\"1\"\t\"1\"\t\"1\"\t\"1\"\t\"1\"\t\"1\"\t\"1\"\t\"1\"\t\"1\"\t\"1\"\t\"1\"\t\"1\"\t\"1\"\t\"1\"\t\"1\"\t\"1\"\t\"1\"\t\"1\"\t\"1\"\t\"1\"\t\"1\"\t\"1\"\t\"1\"\t\"1\"\t\"1\"\t\"1\"\t\"1\"\t\"1\"\t\"1\"\t\"1\"\t\"1\"\t\"1\"\t\"1\n",
            "!Sample_source_name_ch1\t\"Leukemia patient sample\"\t\"Leukemia patient sample\"\t\"Leukemia patient sample\"\t\"Leukemia patient sample\"\t\"Leukemia patient sample\"\t\"Leukemia patient sample\"\t\"Leukemia patient sa\n",
            "!Sample_organism_ch1\t\"Homo sapiens\"\t\"Homo sapiens\"\t\"Homo sapiens\"\t\"Homo sapiens\"\t\"Homo sapiens\"\t\"Homo sapiens\"\t\"Homo sapiens\"\t\"Homo sapiens\"\t\"Homo sapiens\"\t\"Homo sapiens\"\t\"Homo sapiens\"\t\"Homo sapiens\"\n",
            "!Sample_characteristics_ch1\t\"sample type: bone marrow\"\t\"sample type: bone marrow\"\t\"sample type: bone marrow\"\t\"sample type: bone marrow\"\t\"sample type: bone marrow\"\t\"sample type: bone marrow\"\t\"sample ty\n",
            "!Sample_characteristics_ch1\t\"leukemia class: mature B-ALL with t(8;14)\"\t\"leukemia class: mature B-ALL with t(8;14)\"\t\"leukemia class: mature B-ALL with t(8;14)\"\t\"leukemia class: mature B-ALL with t(8;1\n",
            "!Sample_treatment_protocol_ch1\t\"Samples are from untreated patients.\"\t\"Samples are from untreated patients.\"\t\"Samples are from untreated patients.\"\t\"Samples are from untreated patients.\"\t\"Samples are \n",
            "!Sample_growth_protocol_ch1\t\"not applicable\"\t\"not applicable\"\t\"not applicable\"\t\"not applicable\"\t\"not applicable\"\t\"not applicable\"\t\"not applicable\"\t\"not applicable\"\t\"not applicable\"\t\"not applicable\"\t\"n\n",
            "!Sample_molecule_ch1\t\"total RNA\"\t\"total RNA\"\t\"total RNA\"\t\"total RNA\"\t\"total RNA\"\t\"total RNA\"\t\"total RNA\"\t\"total RNA\"\t\"total RNA\"\t\"total RNA\"\t\"total RNA\"\t\"total RNA\"\t\"total RNA\"\t\"total RNA\"\t\"total RNA\"\n",
            "!Sample_extract_protocol_ch1\t\"The total RNA was purified either with Qiagen RNeasy Mini kits (Qiagen, Hilden, Germany) or with TRIzol-based protocols\"\t\"The total RNA was purified either with Qiagen RN\n",
            "!Sample_label_ch1\t\"biotin\"\t\"biotin\"\t\"biotin\"\t\"biotin\"\t\"biotin\"\t\"biotin\"\t\"biotin\"\t\"biotin\"\t\"biotin\"\t\"biotin\"\t\"biotin\"\t\"biotin\"\t\"biotin\"\t\"biotin\"\t\"biotin\"\t\"biotin\"\t\"biotin\"\t\"biotin\"\t\"biotin\"\t\"biotin\"\t\"b\n",
            "!Sample_label_protocol_ch1\t\"For each sample preparation, total RNA was converted into double-stranded cDNA by reverse transcription using a cDNA Synthesis System kit including an oligo(dT)24 – T7 prim\n",
            "!Sample_taxid_ch1\t\"9606\"\t\"9606\"\t\"9606\"\t\"9606\"\t\"9606\"\t\"9606\"\t\"9606\"\t\"9606\"\t\"9606\"\t\"9606\"\t\"9606\"\t\"9606\"\t\"9606\"\t\"9606\"\t\"9606\"\t\"9606\"\t\"9606\"\t\"9606\"\t\"9606\"\t\"9606\"\t\"9606\"\t\"9606\"\t\"9606\"\t\"9606\"\t\"9606\"\t\"9606\"\t\n",
            "!Sample_hyb_protocol\t\"Hybridization, washing, and staining protocols, respectively, were performed on Affymetrix GeneChip instruments (Hybridization Oven 640, Fluidics Station FS450) as recommended by\n",
            "!Sample_scan_protocol\t\"Scanning was performed on Affymetrix GeneChip Scanner GCS3000 instruments as recommended by the manufacturer using default settings. The software used was GCOS 1.2 or higher.\"\t\"\n",
            "!Sample_data_processing\t\"Data pre-processing included a summarization and quantile normalization step to generate probe set level signal intensities for each microarray experiment and was performed as\n",
            "!Sample_platform_id\t\"GPL570\"\t\"GPL570\"\t\"GPL570\"\t\"GPL570\"\t\"GPL570\"\t\"GPL570\"\t\"GPL570\"\t\"GPL570\"\t\"GPL570\"\t\"GPL570\"\t\"GPL570\"\t\"GPL570\"\t\"GPL570\"\t\"GPL570\"\t\"GPL570\"\t\"GPL570\"\t\"GPL570\"\t\"GPL570\"\t\"GPL570\"\t\"GPL570\"\t\n",
            "!Sample_contact_name\t\"Wei-Min,,Liu\"\t\"Wei-Min,,Liu\"\t\"Wei-Min,,Liu\"\t\"Wei-Min,,Liu\"\t\"Wei-Min,,Liu\"\t\"Wei-Min,,Liu\"\t\"Wei-Min,,Liu\"\t\"Wei-Min,,Liu\"\t\"Wei-Min,,Liu\"\t\"Wei-Min,,Liu\"\t\"Wei-Min,,Liu\"\t\"Wei-Min,,Liu\"\n",
            "!Sample_contact_email\t\"wei-min.liu@roche.com\"\t\"wei-min.liu@roche.com\"\t\"wei-min.liu@roche.com\"\t\"wei-min.liu@roche.com\"\t\"wei-min.liu@roche.com\"\t\"wei-min.liu@roche.com\"\t\"wei-min.liu@roche.com\"\t\"wei-min.l\n",
            "!Sample_contact_phone\t\"9257308446\"\t\"9257308446\"\t\"9257308446\"\t\"9257308446\"\t\"9257308446\"\t\"9257308446\"\t\"9257308446\"\t\"9257308446\"\t\"9257308446\"\t\"9257308446\"\t\"9257308446\"\t\"9257308446\"\t\"9257308446\"\t\"92573084\n",
            "!Sample_contact_institute\t\"Roche Molecular Systems\"\t\"Roche Molecular Systems\"\t\"Roche Molecular Systems\"\t\"Roche Molecular Systems\"\t\"Roche Molecular Systems\"\t\"Roche Molecular Systems\"\t\"Roche Molecular S\n",
            "!Sample_contact_address\t\"4300 Hacienda Drive\"\t\"4300 Hacienda Drive\"\t\"4300 Hacienda Drive\"\t\"4300 Hacienda Drive\"\t\"4300 Hacienda Drive\"\t\"4300 Hacienda Drive\"\t\"4300 Hacienda Drive\"\t\"4300 Hacienda Drive\"\t\n",
            "!Sample_contact_city\t\"Pleasanton\"\t\"Pleasanton\"\t\"Pleasanton\"\t\"Pleasanton\"\t\"Pleasanton\"\t\"Pleasanton\"\t\"Pleasanton\"\t\"Pleasanton\"\t\"Pleasanton\"\t\"Pleasanton\"\t\"Pleasanton\"\t\"Pleasanton\"\t\"Pleasanton\"\t\"Pleasanto\n",
            "!Sample_contact_state\t\"CA\"\t\"CA\"\t\"CA\"\t\"CA\"\t\"CA\"\t\"CA\"\t\"CA\"\t\"CA\"\t\"CA\"\t\"CA\"\t\"CA\"\t\"CA\"\t\"CA\"\t\"CA\"\t\"CA\"\t\"CA\"\t\"CA\"\t\"CA\"\t\"CA\"\t\"CA\"\t\"CA\"\t\"CA\"\t\"CA\"\t\"CA\"\t\"CA\"\t\"CA\"\t\"CA\"\t\"CA\"\t\"CA\"\t\"CA\"\t\"CA\"\t\"CA\"\t\"CA\"\t\"CA\"\t\"CA\"\t\"CA\n",
            "!Sample_contact_zip/postal_code\t\"94588\"\t\"94588\"\t\"94588\"\t\"94588\"\t\"94588\"\t\"94588\"\t\"94588\"\t\"94588\"\t\"94588\"\t\"94588\"\t\"94588\"\t\"94588\"\t\"94588\"\t\"94588\"\t\"94588\"\t\"94588\"\t\"94588\"\t\"94588\"\t\"94588\"\t\"94588\"\t\"94588\"\t\n",
            "!Sample_contact_country\t\"USA\"\t\"USA\"\t\"USA\"\t\"USA\"\t\"USA\"\t\"USA\"\t\"USA\"\t\"USA\"\t\"USA\"\t\"USA\"\t\"USA\"\t\"USA\"\t\"USA\"\t\"USA\"\t\"USA\"\t\"USA\"\t\"USA\"\t\"USA\"\t\"USA\"\t\"USA\"\t\"USA\"\t\"USA\"\t\"USA\"\t\"USA\"\t\"USA\"\t\"USA\"\t\"USA\"\t\"USA\"\t\"USA\"\t\"U\n",
            "!Sample_supplementary_file\t\"ftp://ftp.ncbi.nlm.nih.gov/geo/samples/GSM329nnn/GSM329407/suppl/GSM329407.CEL.gz\"\t\"ftp://ftp.ncbi.nlm.nih.gov/geo/samples/GSM329nnn/GSM329408/suppl/GSM329408.CEL.gz\"\t\"ftp:\n",
            "!Sample_data_row_count\t\"54675\"\t\"54675\"\t\"54675\"\t\"54675\"\t\"54675\"\t\"54675\"\t\"54675\"\t\"54675\"\t\"54675\"\t\"54675\"\t\"54675\"\t\"54675\"\t\"54675\"\t\"54675\"\t\"54675\"\t\"54675\"\t\"54675\"\t\"54675\"\t\"54675\"\t\"54675\"\t\"54675\"\t\"54675\"\t\"\n",
            "!Sample_relation\t\"Reanalyzed by: GSE122511\"\t\"Reanalyzed by: GSE122511\"\t\"Reanalyzed by: GSE122511\"\t\"Reanalyzed by: GSE122511\"\t\"Reanalyzed by: GSE122511\"\t\"Reanalyzed by: GSE122511\"\t\"Reanalyzed by: GSE12\n",
            "!Sample_relation\t\"\"\t\"\"\t\"\"\t\"\"\t\"\"\t\"\"\t\"\"\t\"\"\t\"\"\t\"\"\t\"\"\t\"\"\t\"\"\t\"\"\t\"\"\t\"\"\t\"\"\t\"\"\t\"\"\t\"\"\t\"\"\t\"\"\t\"\"\t\"\"\t\"\"\t\"\"\t\"\"\t\"\"\t\"\"\t\"\"\t\"\"\t\"\"\t\"\"\t\"\"\t\"\"\t\"\"\t\"\"\t\"\"\t\"\"\t\"\"\t\"\"\t\"\"\t\"\"\t\"\"\t\"\"\t\"\"\t\"\"\t\"\"\t\"\"\t\"\"\t\"\"\t\"\"\t\"\"\t\"\"\t\"\"\t\"\"\t\"\"\t\"\"\t\"\"\t\"\"\t\"\"\t\n"
          ]
        }
      ],
      "source": [
        "filename = \"GSE13159_series_matrix.txt.gz\"\n",
        "\n",
        "with gzip.open(filename, \"rt\", errors=\"ignore\") as f:\n",
        "    for line in f:\n",
        "        if line.startswith(\"!Sample\"):\n",
        "            print(line[:200])\n",
        "\n"
      ]
    },
    {
      "cell_type": "code",
      "execution_count": 3,
      "id": "1a239898",
      "metadata": {
        "colab": {
          "base_uri": "https://localhost:8080/"
        },
        "id": "1a239898",
        "outputId": "571af414-ab14-4a5b-cc93-c0d0c555ee88"
      },
      "outputs": [
        {
          "output_type": "stream",
          "name": "stdout",
          "text": [
            "Expression matrix shape: (2096, 54675)\n",
            "Samples in X: 2096\n",
            "Samples in labels: 2096\n",
            "✅ Saved X.csv and y.csv\n",
            "Unique classes: ['mature B-ALL with t(8;14)' 'Pro-B-ALL with t(11q23)/MLL'\n",
            " 'c-ALL/Pre-B-ALL with t(9;22)' 'T-ALL' 'ALL with t(12;21)'\n",
            " 'ALL with t(1;19)' 'ALL with hyperdiploid karyotype'\n",
            " 'c-ALL/Pre-B-ALL without t(9;22)' 'AML with t(8;21)' 'AML with t(15;17)'\n",
            " 'AML with inv(16)/t(16;16)' 'AML with t(11q23)/MLL'\n",
            " 'AML with normal karyotype + other abnormalities'\n",
            " 'AML complex aberrant karyotype' 'CLL' 'CML' 'MDS'\n",
            " 'Non-leukemia and healthy bone marrow']\n"
          ]
        }
      ],
      "source": [
        "filename = \"GSE13159_series_matrix.txt.gz\"\n",
        "\n",
        "expr = pd.read_csv(filename, sep=\"\\t\", comment=\"!\", index_col=0)\n",
        "X = expr.T\n",
        "print(\"Expression matrix shape:\", X.shape)\n",
        "\n",
        "sample_ids, labels = [], []\n",
        "with gzip.open(filename, \"rt\", errors=\"ignore\") as f:\n",
        "    for line in f:\n",
        "        if line.startswith(\"!Sample_geo_accession\"):\n",
        "            sample_ids = [s.strip('\"') for s in line.strip().split(\"\\t\")[1:]]\n",
        "        if line.startswith(\"!Sample_characteristics_ch1\") and \"leukemia class\" in line:\n",
        "            raw_labels = line.strip().split(\"\\t\")[1:]\n",
        "            labels = [lbl.split(\":\")[-1].strip().strip('\"') for lbl in raw_labels]\n",
        "\n",
        "print(\"Samples in X:\", len(X))\n",
        "print(\"Samples in labels:\", len(labels))\n",
        "\n",
        "y = pd.DataFrame({\"sample_id\": sample_ids, \"label\": labels})\n",
        "\n",
        "X.to_csv(\"X.csv\")\n",
        "y.to_csv(\"y.csv\", index=False)\n",
        "\n",
        "print(\"✅ Saved X.csv and y.csv\")\n",
        "print(\"Unique classes:\", y['label'].unique())"
      ]
    },
    {
      "cell_type": "code",
      "execution_count": 4,
      "id": "5f5146c1",
      "metadata": {
        "id": "5f5146c1"
      },
      "outputs": [],
      "source": [
        "X = pd.read_csv(\"X.csv\", index_col=0)\n",
        "y = pd.read_csv(\"y.csv\", index_col=0).squeeze()"
      ]
    },
    {
      "cell_type": "code",
      "execution_count": 5,
      "id": "77d178a3",
      "metadata": {
        "colab": {
          "base_uri": "https://localhost:8080/"
        },
        "id": "77d178a3",
        "outputId": "67bba7b3-c4f6-479a-f867-5cc46e274249"
      },
      "outputs": [
        {
          "output_type": "stream",
          "name": "stdout",
          "text": [
            "Features shape: (2096, 54675)\n",
            "Labels shape: (2096,)\n",
            "Unique labels: ['mature B-ALL with t(8;14)' 'Pro-B-ALL with t(11q23)/MLL'\n",
            " 'c-ALL/Pre-B-ALL with t(9;22)' 'T-ALL' 'ALL with t(12;21)'\n",
            " 'ALL with t(1;19)' 'ALL with hyperdiploid karyotype'\n",
            " 'c-ALL/Pre-B-ALL without t(9;22)' 'AML with t(8;21)' 'AML with t(15;17)'\n",
            " 'AML with inv(16)/t(16;16)' 'AML with t(11q23)/MLL'\n",
            " 'AML with normal karyotype + other abnormalities'\n",
            " 'AML complex aberrant karyotype' 'CLL' 'CML' 'MDS'\n",
            " 'Non-leukemia and healthy bone marrow']\n"
          ]
        }
      ],
      "source": [
        "print(\"Features shape:\", X.shape)   # (2096, 54675)\n",
        "print(\"Labels shape:\", y.shape)     # (2096,)\n",
        "print(\"Unique labels:\", y.unique())\n"
      ]
    },
    {
      "cell_type": "code",
      "execution_count": 6,
      "id": "b64b5369",
      "metadata": {
        "colab": {
          "base_uri": "https://localhost:8080/"
        },
        "id": "b64b5369",
        "outputId": "f719c0ea-a25d-40f6-8113-186ef2570266"
      },
      "outputs": [
        {
          "output_type": "stream",
          "name": "stdout",
          "text": [
            "label\n",
            "CLL                                                448\n",
            "AML with normal karyotype + other abnormalities    351\n",
            "c-ALL/Pre-B-ALL without t(9;22)                    237\n",
            "MDS                                                206\n",
            "T-ALL                                              174\n",
            "c-ALL/Pre-B-ALL with t(9;22)                       122\n",
            "CML                                                 76\n",
            "Non-leukemia and healthy bone marrow                74\n",
            "Pro-B-ALL with t(11q23)/MLL                         70\n",
            "ALL with t(12;21)                                   58\n",
            "AML complex aberrant karyotype                      48\n",
            "ALL with hyperdiploid karyotype                     40\n",
            "AML with t(8;21)                                    40\n",
            "AML with t(11q23)/MLL                               38\n",
            "AML with t(15;17)                                   37\n",
            "ALL with t(1;19)                                    36\n",
            "AML with inv(16)/t(16;16)                           28\n",
            "mature B-ALL with t(8;14)                           13\n",
            "Name: count, dtype: int64\n"
          ]
        }
      ],
      "source": [
        "# Clean label text\n",
        "y = y.str.replace(\"leukemia class: \", \"\", regex=False)\n",
        "y = y.str.strip()\n",
        "print(y.value_counts())\n"
      ]
    },
    {
      "cell_type": "code",
      "execution_count": 7,
      "id": "945c2b9b",
      "metadata": {
        "colab": {
          "base_uri": "https://localhost:8080/"
        },
        "id": "945c2b9b",
        "outputId": "b08feae6-a0c6-408c-9044-cd6337dc0f31"
      },
      "outputs": [
        {
          "output_type": "stream",
          "name": "stdout",
          "text": [
            "{'ALL with hyperdiploid karyotype': 0, 'ALL with t(12;21)': 1, 'ALL with t(1;19)': 2, 'AML complex aberrant karyotype': 3, 'AML with inv(16)/t(16;16)': 4, 'AML with normal karyotype + other abnormalities': 5, 'AML with t(11q23)/MLL': 6, 'AML with t(15;17)': 7, 'AML with t(8;21)': 8, 'CLL': 9, 'CML': 10, 'MDS': 11, 'Non-leukemia and healthy bone marrow': 12, 'Pro-B-ALL with t(11q23)/MLL': 13, 'T-ALL': 14, 'c-ALL/Pre-B-ALL with t(9;22)': 15, 'c-ALL/Pre-B-ALL without t(9;22)': 16, 'mature B-ALL with t(8;14)': 17}\n"
          ]
        }
      ],
      "source": [
        "\n",
        "le = LabelEncoder()\n",
        "y_encoded = le.fit_transform(y)\n",
        "\n",
        "print(dict(zip(le.classes_, range(len(le.classes_)))))"
      ]
    },
    {
      "cell_type": "code",
      "execution_count": 8,
      "id": "04e1a6e5",
      "metadata": {
        "colab": {
          "base_uri": "https://localhost:8080/"
        },
        "id": "04e1a6e5",
        "outputId": "312cdfdf-13ab-4f64-8408-0ddcf084dde7"
      },
      "outputs": [
        {
          "output_type": "stream",
          "name": "stdout",
          "text": [
            "NaNs  94320\n",
            "Infs  0\n"
          ]
        }
      ],
      "source": [
        "print(\"NaNs \", np.isnan(X.values).sum())\n",
        "print(\"Infs \", np.isinf(X.values).sum())\n",
        "X = X.fillna(0)\n"
      ]
    },
    {
      "cell_type": "code",
      "execution_count": 9,
      "id": "d8868f46",
      "metadata": {
        "colab": {
          "base_uri": "https://localhost:8080/"
        },
        "id": "d8868f46",
        "outputId": "c8e7e4fe-4d53-4d51-a8fd-b80f4c5b73aa"
      },
      "outputs": [
        {
          "output_type": "stream",
          "name": "stdout",
          "text": [
            "(2096, 54675)\n"
          ]
        }
      ],
      "source": [
        "scaler = StandardScaler()\n",
        "X_scaled = scaler.fit_transform(X)\n",
        "\n",
        "print(X_scaled.shape)"
      ]
    },
    {
      "cell_type": "code",
      "execution_count": 10,
      "id": "cef9cfca",
      "metadata": {
        "colab": {
          "base_uri": "https://localhost:8080/"
        },
        "id": "cef9cfca",
        "outputId": "87f59018-496b-4659-8581-ea8e7ca40a0a"
      },
      "outputs": [
        {
          "output_type": "stream",
          "name": "stdout",
          "text": [
            "Reduced shape: (2096, 10000)\n"
          ]
        },
        {
          "output_type": "stream",
          "name": "stderr",
          "text": [
            "/usr/local/lib/python3.12/dist-packages/sklearn/feature_selection/_univariate_selection.py:111: UserWarning: Features [54613 54614 54615 54616 54617 54618 54619 54620 54621 54622 54623 54624\n",
            " 54639 54640 54641 54645 54646 54647 54648 54649 54650 54651 54652 54653\n",
            " 54654 54655 54656 54657 54658 54659 54660 54661 54662 54663 54664 54665\n",
            " 54666 54667 54668 54669 54670 54671 54672 54673 54674] are constant.\n",
            "  warnings.warn(\"Features %s are constant.\" % constant_features_idx, UserWarning)\n",
            "/usr/local/lib/python3.12/dist-packages/sklearn/feature_selection/_univariate_selection.py:112: RuntimeWarning: invalid value encountered in divide\n",
            "  f = msb / msw\n"
          ]
        }
      ],
      "source": [
        "selector = SelectKBest(score_func=f_classif, k=10000)\n",
        "X_reduced = selector.fit_transform(X_scaled, y_encoded)\n",
        "\n",
        "print(\"Reduced shape:\", X_reduced.shape)\n"
      ]
    },
    {
      "cell_type": "code",
      "execution_count": 11,
      "id": "a7ae0a6e",
      "metadata": {
        "colab": {
          "base_uri": "https://localhost:8080/"
        },
        "id": "a7ae0a6e",
        "outputId": "7bc4e408-7e8a-4863-a4be-3648d3c57bf7"
      },
      "outputs": [
        {
          "output_type": "stream",
          "name": "stdout",
          "text": [
            "(1676, 10000) (1676,) (420, 10000) (420,)\n"
          ]
        }
      ],
      "source": [
        "\n",
        "X_train, X_test, y_train, y_test = train_test_split(\n",
        "    X_reduced, y_encoded, test_size=0.2, random_state=69, stratify=y_encoded\n",
        ")\n",
        "print(X_train.shape,y_train.shape,X_test.shape,y_test.shape)"
      ]
    },
    {
      "cell_type": "code",
      "execution_count": 12,
      "id": "e187d992",
      "metadata": {
        "colab": {
          "base_uri": "https://localhost:8080/"
        },
        "id": "e187d992",
        "outputId": "93384efd-a03f-49bf-b491-1fdb0ccd11c6"
      },
      "outputs": [
        {
          "output_type": "stream",
          "name": "stdout",
          "text": [
            "Naive Bayes         : 0.816 ± 0.018\n",
            "Random Forest       : 0.863 ± 0.010\n",
            "KNN                 : 0.836 ± 0.008\n",
            "SVM (RBF)           : 0.879 ± 0.007\n",
            "Logistic Regression : 0.913 ± 0.012\n",
            "Neural Net (MLP)    : 0.904 ± 0.004\n"
          ]
        }
      ],
      "source": [
        "models = {\n",
        "    \"Naive Bayes\": GaussianNB(),\n",
        "    \"Random Forest\": RandomForestClassifier(n_estimators=200, random_state=42),\n",
        "    \"KNN\": KNeighborsClassifier(n_neighbors=5),\n",
        "    \"SVM (RBF)\": SVC(kernel=\"rbf\", probability=True),\n",
        "    \"Logistic Regression\": LogisticRegression(max_iter=500, solver=\"liblinear\"),\n",
        "    \"Neural Net (MLP)\": MLPClassifier(hidden_layer_sizes=(100,), max_iter=500)\n",
        "}\n",
        "\n",
        "#NOT USING GRADIENT BOOSTING AS IT WAS TAKING TOO MUCH TIME\n",
        "\n",
        "cv = StratifiedKFold(n_splits=5, shuffle=True, random_state=42)\n",
        "\n",
        "results = {}\n",
        "for name, model in models.items():\n",
        "    scores = cross_val_score(model, X_reduced, y_encoded, cv=cv, scoring=\"accuracy\")\n",
        "    results[name] = (np.mean(scores), np.std(scores))\n",
        "    print(f\"{name:20s}: {np.mean(scores):.3f} ± {np.std(scores):.3f}\")"
      ]
    }
  ],
  "metadata": {
    "kernelspec": {
      "display_name": "myenv (3.13.7)",
      "language": "python",
      "name": "python3"
    },
    "language_info": {
      "codemirror_mode": {
        "name": "ipython",
        "version": 3
      },
      "file_extension": ".py",
      "mimetype": "text/x-python",
      "name": "python",
      "nbconvert_exporter": "python",
      "pygments_lexer": "ipython3",
      "version": "3.13.7"
    },
    "colab": {
      "provenance": []
    }
  },
  "nbformat": 4,
  "nbformat_minor": 5
}