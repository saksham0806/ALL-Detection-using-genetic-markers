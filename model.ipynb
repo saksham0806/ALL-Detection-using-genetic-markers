{
  "cells": [
    {
      "cell_type": "code",
      "execution_count": 1,
      "id": "223d7e2b",
      "metadata": {
        "id": "223d7e2b"
      },
      "outputs": [],
      "source": [
        "import numpy as np\n",
        "import pandas as pd\n",
        "import seaborn as sns\n",
        "from sklearn.model_selection import train_test_split,cross_val_score, StratifiedKFold\n",
        "from sklearn.metrics import accuracy_score, classification_report, confusion_matrix\n",
        "from sklearn.preprocessing import LabelEncoder, StandardScaler\n",
        "from sklearn.feature_selection import SelectKBest, f_classif\n",
        "from sklearn.neural_network import MLPClassifier\n",
        "\n",
        "from imblearn.over_sampling import SMOTE\n",
        "\n",
        "#Model tesets\n",
        "from sklearn.linear_model import LogisticRegression\n",
        "import joblib\n"
      ]
    },
    {
      "cell_type": "code",
      "execution_count": null,
      "id": "5f5146c1",
      "metadata": {
        "id": "5f5146c1"
      },
      "outputs": [],
      "source": [
        "X = pd.read_csv(\"X.csv\", index_col=0)  \n",
        "y = pd.read_csv(\"y.csv\")[\"label\"]"
      ]
    },
    {
      "cell_type": "code",
      "execution_count": null,
      "id": "b64b5369",
      "metadata": {
        "id": "b64b5369",
        "outputId": "f50e05c0-f965-4314-f9ac-1c7a33cfc034"
      },
      "outputs": [],
      "source": [
        "y = y.str.replace(\"leukemia class: \", \"\", regex=False)\n",
        "y = y.str.strip()\n",
        "print(y.value_counts())"
      ]
    },
    {
      "cell_type": "code",
      "execution_count": null,
      "id": "945c2b9b",
      "metadata": {
        "id": "945c2b9b",
        "outputId": "f5906da8-10e0-461e-9718-89f4e247c2ae"
      },
      "outputs": [],
      "source": [
        "le = LabelEncoder()\n",
        "y_encoded = le.fit_transform(y)\n",
        "\n",
        "print(dict(zip(le.classes_, range(len(le.classes_)))))"
      ]
    },
    {
      "cell_type": "code",
      "execution_count": null,
      "id": "04e1a6e5",
      "metadata": {
        "id": "04e1a6e5",
        "outputId": "5450799c-476a-4674-c0fe-1f032b1479ce"
      },
      "outputs": [],
      "source": [
        "print(\"NaNs in data:\", np.isnan(X.values).sum())\n",
        "print(\"Infs in data:\", np.isinf(X.values).sum())\n",
        "X = X.fillna(0)\n"
      ]
    },
    {
      "cell_type": "code",
      "execution_count": null,
      "id": "fde8030b",
      "metadata": {},
      "outputs": [],
      "source": [
        "selector = SelectKBest(score_func=f_classif, k=10000)\n",
        "X = selector.fit_transform(X, y_encoded)"
      ]
    },
    {
      "cell_type": "code",
      "execution_count": null,
      "id": "f67fe7a4",
      "metadata": {},
      "outputs": [],
      "source": [
        "\n",
        "X_train, X_test, y_train, y_test = train_test_split(\n",
        "    X, y_encoded, test_size=0.2, stratify=y_encoded, random_state=42\n",
        ")"
      ]
    },
    {
      "cell_type": "code",
      "execution_count": null,
      "id": "a4c525be",
      "metadata": {},
      "outputs": [],
      "source": [
        "smote = SMOTE(random_state=42)\n",
        "X_train_res, y_train_res = smote.fit_resample(X_train, y_train)\n",
        "\n",
        "print(\"Before SMOTE:\", np.bincount(y_train))\n",
        "print(\"After SMOTE :\", np.bincount(y_train_res))"
      ]
    },
    {
      "cell_type": "code",
      "execution_count": null,
      "id": "d8868f46",
      "metadata": {
        "id": "d8868f46",
        "outputId": "aa309ba8-744a-4430-e54c-d8e36f192351"
      },
      "outputs": [],
      "source": [
        "scaler = StandardScaler()\n",
        "X_train_scaled = scaler.fit_transform(X_train_res)\n",
        "X_test_scaled = scaler.transform(X_test)"
      ]
    },
    {
      "cell_type": "code",
      "execution_count": null,
      "id": "b33eff12",
      "metadata": {},
      "outputs": [],
      "source": []
    },
    {
      "cell_type": "code",
      "execution_count": null,
      "id": "cef9cfca",
      "metadata": {
        "id": "cef9cfca",
        "outputId": "7f5131d5-e6b3-431f-8195-987f9f64663d"
      },
      "outputs": [],
      "source": [
        "log_reg = LogisticRegression(\n",
        "    max_iter=10000, \n",
        "    solver=\"liblinear\", \n",
        "    penalty=\"l2\", \n",
        "    C=1.0,\n",
        "    random_state=69\n",
        ")\n",
        "log_reg.fit(X_train_scaled, y_train_res)\n"
      ]
    },
    {
      "cell_type": "code",
      "execution_count": null,
      "id": "e187d992",
      "metadata": {
        "id": "e187d992"
      },
      "outputs": [],
      "source": [
        "y_pred = log_reg.predict(X_test_scaled)\n",
        "\n",
        "print(\"Accuracy:\", accuracy_score(y_test, y_pred))\n",
        "print(\"\\nClassification Report:\\n\", classification_report(y_test, y_pred, target_names=le.classes_))\n",
        "print(\"\\nConfusion Matrix:\\n\", confusion_matrix(y_test, y_pred))"
      ]
    },
    {
      "cell_type": "code",
      "execution_count": null,
      "id": "3d77f68f",
      "metadata": {},
      "outputs": [],
      "source": [
        "mlp = MLPClassifier(\n",
        "    hidden_layer_sizes=(128, 64),  \n",
        "    activation=\"relu\",         \n",
        "    solver=\"adam\",              \n",
        "    max_iter=500,                   \n",
        "    random_state=69,\n",
        "    early_stopping=True,\n",
        "    n_iter_no_change=20\n",
        ")\n",
        "\n",
        "mlp.fit(X_train_scaled, y_train_res)"
      ]
    },
    {
      "cell_type": "code",
      "execution_count": null,
      "id": "b3a5a2a2",
      "metadata": {},
      "outputs": [],
      "source": [
        "y_pred = mlp.predict(X_test_scaled)\n",
        "\n",
        "print(\"Accuracy:\", accuracy_score(y_test, y_pred))\n",
        "print(\"\\nClassification Report:\\n\", classification_report(y_test, y_pred, target_names=le.classes_))\n",
        "print(\"\\nConfusion Matrix:\\n\", confusion_matrix(y_test, y_pred))"
      ]
    },
    {
      "cell_type": "code",
      "execution_count": null,
      "id": "eb6225e5",
      "metadata": {},
      "outputs": [],
      "source": [
        "joblib.dump(log_reg, \"log_reg_model.pkl\")\n",
        "joblib.dump(mlp, \"mlp_model.pkl\")\n",
        "joblib.dump(scaler, \"scaler.pkl\")\n",
        "joblib.dump(le, \"label_encoder.pkl\")\n",
        "\n",
        "print(\"Model, scaler, and label encoder saved.\")"
      ]
    }
  ],
  "metadata": {
    "colab": {
      "include_colab_link": true,
      "provenance": []
    },
    "kernelspec": {
      "display_name": "myenv (3.13.7)",
      "language": "python",
      "name": "python3"
    },
    "language_info": {
      "codemirror_mode": {
        "name": "ipython",
        "version": 3
      },
      "file_extension": ".py",
      "mimetype": "text/x-python",
      "name": "python",
      "nbconvert_exporter": "python",
      "pygments_lexer": "ipython3",
      "version": "3.13.7"
    }
  },
  "nbformat": 4,
  "nbformat_minor": 5
}
